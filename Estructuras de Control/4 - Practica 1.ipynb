{
 "metadata": {
  "language_info": {
   "codemirror_mode": {
    "name": "ipython",
    "version": 3
   },
   "file_extension": ".py",
   "mimetype": "text/x-python",
   "name": "python",
   "nbconvert_exporter": "python",
   "pygments_lexer": "ipython3",
   "version": "3.9.0-final"
  },
  "orig_nbformat": 2,
  "kernelspec": {
   "name": "Python 3.9.0 64-bit",
   "display_name": "Python 3.9.0 64-bit",
   "metadata": {
    "interpreter": {
     "hash": "63838ee635211b2aabf448bdfb13ad855c46fe9409d26a139c71ce2179bdef9b"
    }
   }
  }
 },
 "nbformat": 4,
 "nbformat_minor": 2,
 "cells": [
  {
   "cell_type": "code",
   "execution_count": 7,
   "metadata": {},
   "outputs": [
    {
     "output_type": "stream",
     "name": "stdout",
     "text": [
      "Elige tu propio camino\n",
      "¿Que camino quieres elegir?\n",
      "    Escribe la opcion con numero\n",
      "    1 - Quiero que me saludes\n",
      "    2 - Quiero multiplicar ya que no se como hacerlo\n",
      "    3 - Quiero salir de este programa, ya aprendi a multiplicar con el curso de Alvaro \n",
      "Excelente decision que hayas tomado el curso\n"
     ]
    }
   ],
   "source": [
    "print('Elige tu propio camino')\n",
    "inicio =input('Escribe empezar para iniciar el programa')\n",
    "while (inicio == \"empezar\"):\n",
    "    print(\"\"\"¿Que camino quieres elegir?\n",
    "    Escribe la opcion con numero\n",
    "    1 - Quiero que me saludes\n",
    "    2 - Quiero multiplicar ya que no se como hacerlo\n",
    "    3 - Quiero salir de este programa, ya aprendi a multiplicar con el curso de Alvaro \"\"\")\n",
    "    opcion = input()\n",
    "    if opcion == '1':\n",
    "        print('Te saludo')\n",
    "    elif opcion == '2':\n",
    "        numero1 = float(input('Introduce el valor a multiplicar primero: '))\n",
    "        numero2 = float(input('Introduce el valor a multiplicar segundo: '))\n",
    "        print('El resultado es: '. numero1*numero2)\n",
    "    elif opcion == '3':\n",
    "        print(\"Excelente decision que hayas tomado el curso\")\n",
    "        break\n",
    "    else:\n",
    "        print(\"No se que elegiste, tuviste que haber puesto algun numero de los opciones\")"
   ]
  }
 ]
}