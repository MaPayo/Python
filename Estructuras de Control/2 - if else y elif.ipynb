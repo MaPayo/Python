{
 "metadata": {
  "language_info": {
   "codemirror_mode": {
    "name": "ipython",
    "version": 3
   },
   "file_extension": ".py",
   "mimetype": "text/x-python",
   "name": "python",
   "nbconvert_exporter": "python",
   "pygments_lexer": "ipython3",
   "version": "3.9.0-final"
  },
  "orig_nbformat": 2,
  "kernelspec": {
   "name": "Python 3.9.0 64-bit",
   "display_name": "Python 3.9.0 64-bit",
   "metadata": {
    "interpreter": {
     "hash": "63838ee635211b2aabf448bdfb13ad855c46fe9409d26a139c71ce2179bdef9b"
    }
   }
  }
 },
 "nbformat": 4,
 "nbformat_minor": 2,
 "cells": [
  {
   "cell_type": "code",
   "execution_count": 4,
   "metadata": {},
   "outputs": [],
   "source": [
    "alvaro = 13"
   ]
  },
  {
   "cell_type": "code",
   "execution_count": 2,
   "metadata": {},
   "outputs": [
    {
     "output_type": "stream",
     "name": "stdout",
     "text": [
      "el resto es 0\n"
     ]
    }
   ],
   "source": [
    "if alvaro % 2 == 0:\n",
    "    print('el resto es 0')"
   ]
  },
  {
   "cell_type": "code",
   "execution_count": 5,
   "metadata": {},
   "outputs": [
    {
     "output_type": "stream",
     "name": "stdout",
     "text": [
      "el resto no es 0\n"
     ]
    }
   ],
   "source": [
    "if alvaro % 2 == 0:\n",
    "    print('el resto es 0')\n",
    "else:\n",
    "    print('el resto no es 0')"
   ]
  },
  {
   "cell_type": "code",
   "execution_count": 8,
   "metadata": {},
   "outputs": [
    {
     "output_type": "stream",
     "name": "stdout",
     "text": [
      "esto es algo cuando no da ningun resultado\n"
     ]
    }
   ],
   "source": [
    "frase = \"Alvaro\"\n",
    "if frase == \"Entrar\":\n",
    "    print('Bienvenid@s')\n",
    "elif frase == \"hola\":\n",
    "    print('nos estan saludando')\n",
    "else:\n",
    "    print('esto es algo cuando no da ningun resultado')"
   ]
  },
  {
   "cell_type": "code",
   "execution_count": 12,
   "metadata": {},
   "outputs": [
    {
     "output_type": "stream",
     "name": "stdout",
     "text": [
      "Te falto poco\n"
     ]
    }
   ],
   "source": [
    "final = float(input('coloca la nota:'))\n",
    "if final >= 9:\n",
    "    print('sos un genio')\n",
    "elif final >= 7:\n",
    "    print('Aprobaste!')\n",
    "elif final == 6:\n",
    "    print('Te falto poco')\n",
    "elif final <= 5:\n",
    "    print('Tuviste que haber estudiado en el curso de Python de Alvaro!')\n",
    "else:\n",
    "    print('No se donde estudias porque la nota que pusiste no la puedo evaluar') "
   ]
  },
  {
   "cell_type": "code",
   "execution_count": null,
   "metadata": {},
   "outputs": [],
   "source": []
  }
 ]
}