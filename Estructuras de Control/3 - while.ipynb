{
 "metadata": {
  "language_info": {
   "codemirror_mode": {
    "name": "ipython",
    "version": 3
   },
   "file_extension": ".py",
   "mimetype": "text/x-python",
   "name": "python",
   "nbconvert_exporter": "python",
   "pygments_lexer": "ipython3",
   "version": "3.9.0-final"
  },
  "orig_nbformat": 2,
  "kernelspec": {
   "name": "Python 3.9.0 64-bit",
   "display_name": "Python 3.9.0 64-bit",
   "metadata": {
    "interpreter": {
     "hash": "63838ee635211b2aabf448bdfb13ad855c46fe9409d26a139c71ce2179bdef9b"
    }
   }
  }
 },
 "nbformat": 4,
 "nbformat_minor": 2,
 "cells": [
  {
   "cell_type": "code",
   "execution_count": 3,
   "metadata": {},
   "outputs": [
    {
     "output_type": "stream",
     "name": "stdout",
     "text": [
      "Estoy iterando, van = 1\nEstoy iterando, van = 2\nEstoy iterando, van = 3\nEstoy iterando, van = 4\n"
     ]
    }
   ],
   "source": [
    "iteracion = 0\n",
    "while iteracion <=3:\n",
    "    iteracion += 1\n",
    "    print('Estoy iterando, van =', iteracion)"
   ]
  },
  {
   "cell_type": "code",
   "execution_count": 4,
   "metadata": {},
   "outputs": [
    {
     "output_type": "stream",
     "name": "stdout",
     "text": [
      "Estoy iterando, van = 1\nEstoy iterando, van = 2\nEstoy iterando, van = 3\nEstoy iterando, van = 4\nimprimo esto porque se termino y es el else\n"
     ]
    }
   ],
   "source": [
    "iteracion = 0\n",
    "while iteracion <=3:\n",
    "    iteracion += 1\n",
    "    print('Estoy iterando, van =', iteracion)\n",
    "else:print(\"imprimo esto porque se termino y es el else\")"
   ]
  },
  {
   "cell_type": "code",
   "execution_count": 5,
   "metadata": {},
   "outputs": [
    {
     "output_type": "stream",
     "name": "stdout",
     "text": [
      "Estoy iterando, van = 1\n"
     ]
    }
   ],
   "source": [
    "iteracion = 0\n",
    "while iteracion <=3:\n",
    "    iteracion += 1\n",
    "    print('Estoy iterando, van =', iteracion)\n",
    "    break;\n",
    "else:print(\"imprimo esto porque se termino y es el else\")"
   ]
  },
  {
   "cell_type": "code",
   "execution_count": 6,
   "metadata": {},
   "outputs": [
    {
     "output_type": "stream",
     "name": "stdout",
     "text": [
      "Estoy iterando, van = 4\n"
     ]
    }
   ],
   "source": [
    "iteracion = 0\n",
    "while iteracion <=10:\n",
    "    iteracion += 1\n",
    "    if iteracion == 4:\n",
    "        print('Estoy iterando, van =', iteracion)\n",
    "        break;\n",
    "else:print(\"imprimo esto porque se termino y es el else\")"
   ]
  },
  {
   "cell_type": "code",
   "execution_count": 7,
   "metadata": {},
   "outputs": [
    {
     "output_type": "stream",
     "name": "stdout",
     "text": [
      "Estoy iterando, van = 4\nimprimo esto porque se termino y es el else\n"
     ]
    }
   ],
   "source": [
    "iteracion = 0\n",
    "while iteracion <=10:\n",
    "    iteracion += 1\n",
    "    if iteracion == 4:\n",
    "        print('Estoy iterando, van =', iteracion)\n",
    "        \n",
    "else:print(\"imprimo esto porque se termino y es el else\")"
   ]
  },
  {
   "cell_type": "code",
   "execution_count": null,
   "metadata": {},
   "outputs": [],
   "source": []
  }
 ]
}