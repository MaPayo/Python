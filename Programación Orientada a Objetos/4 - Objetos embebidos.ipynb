{
 "metadata": {
  "language_info": {
   "codemirror_mode": {
    "name": "ipython",
    "version": 3
   },
   "file_extension": ".py",
   "mimetype": "text/x-python",
   "name": "python",
   "nbconvert_exporter": "python",
   "pygments_lexer": "ipython3",
   "version": "3.9.0-final"
  },
  "orig_nbformat": 2,
  "kernelspec": {
   "name": "Python 3.9.0 64-bit",
   "display_name": "Python 3.9.0 64-bit",
   "metadata": {
    "interpreter": {
     "hash": "63838ee635211b2aabf448bdfb13ad855c46fe9409d26a139c71ce2179bdef9b"
    }
   }
  }
 },
 "nbformat": 4,
 "nbformat_minor": 2,
 "cells": [
  {
   "cell_type": "code",
   "execution_count": 1,
   "metadata": {},
   "outputs": [],
   "source": [
    "class Fabrica:\n",
    "    def __init__(self, tiempo, nombre, ruedas):\n",
    "        self.tiempo = tiempo\n",
    "        self.nombre= nombre\n",
    "        self.ruedas = ruedas\n",
    "        print(\"Se creo el auto \", self.nombre)\n",
    "    \n",
    "    def __str__(self):\n",
    "        return \"{} ({})\".format(self.nombre, self.tiempo )\n",
    "    "
   ]
  },
  {
   "cell_type": "code",
   "execution_count": 2,
   "metadata": {},
   "outputs": [],
   "source": [
    "class Lista:\n",
    "    autos = []\n",
    "\n",
    "    def __init__(self, autos=[]):\n",
    "        self. autos = autos\n",
    "\n",
    "    def fabricar(self, x):\n",
    "        self.autos.append(x)\n",
    "\n",
    "    def visualizar(self):\n",
    "        for x in self.autos:\n",
    "            print(x)"
   ]
  },
  {
   "cell_type": "code",
   "execution_count": 3,
   "metadata": {},
   "outputs": [
    {
     "output_type": "stream",
     "name": "stdout",
     "text": [
      "Se creo el auto  Ford\n"
     ]
    }
   ],
   "source": [
    "a = Fabrica(10, \"Ford\", 4)"
   ]
  },
  {
   "cell_type": "code",
   "execution_count": 4,
   "metadata": {},
   "outputs": [],
   "source": [
    "l = Lista([a])"
   ]
  },
  {
   "cell_type": "code",
   "execution_count": 5,
   "metadata": {},
   "outputs": [
    {
     "output_type": "stream",
     "name": "stdout",
     "text": [
      "Ford (10)\n"
     ]
    }
   ],
   "source": [
    "l.visualizar()"
   ]
  },
  {
   "cell_type": "code",
   "execution_count": 6,
   "metadata": {},
   "outputs": [
    {
     "output_type": "stream",
     "name": "stdout",
     "text": [
      "Se creo el auto  Citroen\n"
     ]
    }
   ],
   "source": [
    "l.fabricar(Fabrica(15, \"Citroen\", 2))"
   ]
  },
  {
   "cell_type": "code",
   "execution_count": 7,
   "metadata": {},
   "outputs": [
    {
     "output_type": "stream",
     "name": "stdout",
     "text": [
      "Ford (10)\nCitroen (15)\n"
     ]
    }
   ],
   "source": [
    "l.visualizar()"
   ]
  },
  {
   "cell_type": "code",
   "execution_count": null,
   "metadata": {},
   "outputs": [],
   "source": []
  }
 ]
}