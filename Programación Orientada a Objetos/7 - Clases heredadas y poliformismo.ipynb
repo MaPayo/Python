{
 "metadata": {
  "language_info": {
   "codemirror_mode": {
    "name": "ipython",
    "version": 3
   },
   "file_extension": ".py",
   "mimetype": "text/x-python",
   "name": "python",
   "nbconvert_exporter": "python",
   "pygments_lexer": "ipython3",
   "version": "3.9.0-final"
  },
  "orig_nbformat": 2,
  "kernelspec": {
   "name": "Python 3.9.0 64-bit",
   "display_name": "Python 3.9.0 64-bit",
   "metadata": {
    "interpreter": {
     "hash": "63838ee635211b2aabf448bdfb13ad855c46fe9409d26a139c71ce2179bdef9b"
    }
   }
  }
 },
 "nbformat": 4,
 "nbformat_minor": 2,
 "cells": [
  {
   "cell_type": "code",
   "execution_count": 6,
   "metadata": {},
   "outputs": [],
   "source": [
    "class Fabrica:\n",
    "    def __init__(self, marca, nombre, precio, descripcion):\n",
    "        self.marca = marca\n",
    "        self.nombre = nombre\n",
    "        self.precio = precio\n",
    "        self.descripcion = descripcion\n",
    "\n",
    "    def __str__(self):\n",
    "        return \"\"\"\\\n",
    "MARCA\\t\\t{}\n",
    "NOMBRE\\t\\t{}\n",
    "PRECIO\\t\\t{}\n",
    "DESCRIPCION\\t\\t{}\"\"\".format(self.marca, self.nombre, self.precio,self.descripcion)\n",
    "\n",
    "class Auto(Fabrica):\n",
    "    pass\n",
    "\n",
    "class Deportivo(Fabrica):\n",
    "    ruedas = \"\"\n",
    "    distribuidor = \"\"\n",
    "\n",
    "    def __str__(self):\n",
    "         return \"\"\"\\\n",
    "    MARCA\\t\\t{}\n",
    "    NOMBRE\\t\\t{}\n",
    "    PRECIO\\t\\t{}\n",
    "    DESCRIPCION\\t{}\n",
    "    RUEDAS\\t\\t{}\n",
    "    DISTRIBUIDOR\\t{}\"\"\".format(self.marca, self.nombre, self.precio,self.descripcion, self.ruedas, self.distribuidor)\n",
    "\n",
    "class Accesorios(Fabrica):\n",
    "    autor = \"\"\n",
    "    fabricante = \"\"\n",
    "\n",
    "    def __str__(self):\n",
    "         return \"\"\"\\\n",
    "    MARCA\\t\\t{}\n",
    "    NOMBRE\\t\\t{}\n",
    "    PRECIO\\t\\t{}\n",
    "    DESCRIPCION\\t{}\n",
    "    AUTOR\\t\\t{}\n",
    "    FABRICANTE\\t{}\"\"\".format(self.marca, self.nombre, self.precio,self.descripcion, self.autor, self.fabricante)"
   ]
  },
  {
   "cell_type": "code",
   "execution_count": 7,
   "metadata": {},
   "outputs": [],
   "source": [
    "a = Auto(\"Ford\", \"Ranger\", 100000, \"Camioneta\")\n",
    "\n",
    "deportivo = Deportivo(\"Volkswagen\", \"Vento\", 540000, \"El mejor\")\n",
    "deportivo.ruedas = 3\n",
    "deportivo.distribuidor= \"McAuto\"\n",
    "\n",
    "accesorios = Accesorios(\"Fiat\", \"Luces de Neon\", 20000, \"Iluminan mejor\")\n",
    "accesorios.autor=\"Yo\"\n",
    "accesorios.fabricante=\"Fiat\""
   ]
  },
  {
   "cell_type": "code",
   "execution_count": 8,
   "metadata": {},
   "outputs": [],
   "source": [
    "fabrica = [accesorios, deportivo]"
   ]
  },
  {
   "cell_type": "code",
   "execution_count": 9,
   "metadata": {},
   "outputs": [],
   "source": [
    "fabrica.append(a)"
   ]
  },
  {
   "cell_type": "code",
   "execution_count": 10,
   "metadata": {},
   "outputs": [
    {
     "output_type": "execute_result",
     "data": {
      "text/plain": [
       "[<__main__.Accesorios at 0x22af8956b80>,\n",
       " <__main__.Deportivo at 0x22af8956850>,\n",
       " <__main__.Auto at 0x22af8956b20>]"
      ]
     },
     "metadata": {},
     "execution_count": 10
    }
   ],
   "source": [
    "fabrica"
   ]
  },
  {
   "cell_type": "code",
   "execution_count": 11,
   "metadata": {},
   "outputs": [
    {
     "output_type": "stream",
     "name": "stdout",
     "text": [
      "    MARCA\t\tFiat\n    NOMBRE\t\tLuces de Neon\n    PRECIO\t\t20000\n    DESCRIPCION\tIluminan mejor\n    AUTOR\t\tYo\n    FABRICANTE\tFiat \n\n    MARCA\t\tVolkswagen\n    NOMBRE\t\tVento\n    PRECIO\t\t540000\n    DESCRIPCION\tEl mejor\n    RUEDAS\t\t3\n    DISTRIBUIDOR\tMcAuto \n\nMARCA\t\tFord\nNOMBRE\t\tRanger\nPRECIO\t\t100000\nDESCRIPCION\t\tCamioneta \n\n"
     ]
    }
   ],
   "source": [
    "for x in fabrica:\n",
    "    print(x, \"\\n\")"
   ]
  },
  {
   "cell_type": "code",
   "execution_count": 12,
   "metadata": {},
   "outputs": [
    {
     "output_type": "stream",
     "name": "stdout",
     "text": [
      "Fiat 20000\nVolkswagen 540000\nFord 100000\n"
     ]
    }
   ],
   "source": [
    "for x in fabrica:\n",
    "    print(x.marca, x.precio)"
   ]
  },
  {
   "cell_type": "code",
   "execution_count": 14,
   "metadata": {},
   "outputs": [
    {
     "output_type": "stream",
     "name": "stdout",
     "text": [
      "Fiat Luces de Neon Fiat\nVolkswagen Vento 3\nFord Ranger\n"
     ]
    }
   ],
   "source": [
    "for x in fabrica:\n",
    "    if(isinstance(x, Auto)):\n",
    "        print(x.marca, x.nombre)\n",
    "    elif(isinstance(x, Deportivo)):\n",
    "        print(x.marca, x.nombre, x.ruedas)\n",
    "    elif(isinstance(x, Accesorios)):\n",
    "        print(x.marca, x.nombre, x.fabricante)"
   ]
  },
  {
   "cell_type": "code",
   "execution_count": 15,
   "metadata": {},
   "outputs": [],
   "source": [
    "def Descuento_auto(t, descuento):\n",
    "    t.precio = t.precio -(t.precio/100 * descuento)"
   ]
  },
  {
   "cell_type": "code",
   "execution_count": 16,
   "metadata": {},
   "outputs": [],
   "source": [
    "Descuento_auto(a, 10)"
   ]
  },
  {
   "cell_type": "code",
   "execution_count": 17,
   "metadata": {},
   "outputs": [
    {
     "output_type": "error",
     "ename": "NameError",
     "evalue": "name 'auto' is not defined",
     "traceback": [
      "\u001b[1;31m---------------------------------------------------------------------------\u001b[0m",
      "\u001b[1;31mNameError\u001b[0m                                 Traceback (most recent call last)",
      "\u001b[1;32m<ipython-input-17-bc91ffac1a58>\u001b[0m in \u001b[0;36m<module>\u001b[1;34m\u001b[0m\n\u001b[1;32m----> 1\u001b[1;33m \u001b[0mauto\u001b[0m\u001b[1;33m.\u001b[0m\u001b[0mprecio\u001b[0m\u001b[1;33m\u001b[0m\u001b[1;33m\u001b[0m\u001b[0m\n\u001b[0m",
      "\u001b[1;31mNameError\u001b[0m: name 'auto' is not defined"
     ]
    }
   ],
   "source": [
    "auto.precio"
   ]
  },
  {
   "cell_type": "code",
   "execution_count": 18,
   "metadata": {},
   "outputs": [
    {
     "output_type": "execute_result",
     "data": {
      "text/plain": [
       "90000.0"
      ]
     },
     "metadata": {},
     "execution_count": 18
    }
   ],
   "source": [
    "a.precio"
   ]
  },
  {
   "cell_type": "code",
   "execution_count": 19,
   "metadata": {},
   "outputs": [],
   "source": [
    "import copy\n",
    "copia_deportivo = copy.copy(accesorios)"
   ]
  },
  {
   "cell_type": "code",
   "execution_count": 20,
   "metadata": {},
   "outputs": [
    {
     "output_type": "stream",
     "name": "stdout",
     "text": [
      "    MARCA\t\tFiat\n    NOMBRE\t\tLuces de Neon\n    PRECIO\t\t20000\n    DESCRIPCION\tIluminan mejor\n    AUTOR\t\tYo\n    FABRICANTE\tFiat\n"
     ]
    }
   ],
   "source": [
    "print(copia_deportivo)"
   ]
  },
  {
   "cell_type": "code",
   "execution_count": 22,
   "metadata": {},
   "outputs": [],
   "source": [
    "descuento = 10\n",
    "accesorios.precio = accesorios.precio - (accesorios.precio/100*descuento)"
   ]
  },
  {
   "cell_type": "code",
   "execution_count": 23,
   "metadata": {},
   "outputs": [
    {
     "output_type": "execute_result",
     "data": {
      "text/plain": [
       "18000.0"
      ]
     },
     "metadata": {},
     "execution_count": 23
    }
   ],
   "source": [
    "accesorios.precio"
   ]
  },
  {
   "cell_type": "code",
   "execution_count": null,
   "metadata": {},
   "outputs": [],
   "source": []
  }
 ]
}