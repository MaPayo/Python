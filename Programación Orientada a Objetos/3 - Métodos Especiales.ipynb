{
 "metadata": {
  "language_info": {
   "codemirror_mode": {
    "name": "ipython",
    "version": 3
   },
   "file_extension": ".py",
   "mimetype": "text/x-python",
   "name": "python",
   "nbconvert_exporter": "python",
   "pygments_lexer": "ipython3",
   "version": "3.9.0-final"
  },
  "orig_nbformat": 2,
  "kernelspec": {
   "name": "Python 3.9.0 64-bit",
   "display_name": "Python 3.9.0 64-bit",
   "metadata": {
    "interpreter": {
     "hash": "63838ee635211b2aabf448bdfb13ad855c46fe9409d26a139c71ce2179bdef9b"
    }
   }
  }
 },
 "nbformat": 4,
 "nbformat_minor": 2,
 "cells": [
  {
   "cell_type": "code",
   "execution_count": 1,
   "metadata": {},
   "outputs": [],
   "source": [
    "class Fabrica:\n",
    "    def __init__(self, tiempo, nombre, ruedas):\n",
    "        self.tiempo = tiempo\n",
    "        self.nombre= nombre\n",
    "        self.ruedas = ruedas\n",
    "        print(\"Se creo el auto \", self.nombre)\n",
    "    \n",
    "    def __del__(self):\n",
    "        print(\"Se elimino el auto \", self.nombre)\n",
    "        "
   ]
  },
  {
   "cell_type": "code",
   "execution_count": 3,
   "metadata": {},
   "outputs": [
    {
     "output_type": "stream",
     "name": "stdout",
     "text": [
      "Se creo el auto  Ford\nSe elimino el auto  Ford\n"
     ]
    }
   ],
   "source": [
    "a = Fabrica(10, \"Ford\", 4)"
   ]
  },
  {
   "cell_type": "code",
   "execution_count": 4,
   "metadata": {},
   "outputs": [],
   "source": [
    "class Fabrica:\n",
    "    def __init__(self, tiempo, nombre, ruedas):\n",
    "        self.tiempo = tiempo\n",
    "        self.nombre= nombre\n",
    "        self.ruedas = ruedas\n",
    "        print(\"Se creo el auto \", self.nombre)\n",
    "    \n",
    "    def __del__(self):\n",
    "        print(\"Se elimino el auto \", self.nombre)\n",
    "\n",
    "    def __str__(self):\n",
    "        return \"{} se fabrico con exito, en el tiempo {} y tiene la cantidad de ruedas {}\".format(self.nombre, self.tiempo, self.ruedas)"
   ]
  },
  {
   "cell_type": "code",
   "execution_count": 5,
   "metadata": {},
   "outputs": [
    {
     "output_type": "stream",
     "name": "stdout",
     "text": [
      "Se creo el auto  Ford\n"
     ]
    }
   ],
   "source": [
    "a = Fabrica(10, \"Ford\", 4)"
   ]
  },
  {
   "cell_type": "code",
   "execution_count": 6,
   "metadata": {},
   "outputs": [
    {
     "output_type": "execute_result",
     "data": {
      "text/plain": [
       "'Ford se fabrico con exito, en el tiempo 10 y tiene la cantidad de ruedas 4'"
      ]
     },
     "metadata": {},
     "execution_count": 6
    }
   ],
   "source": [
    "str(a)"
   ]
  },
  {
   "cell_type": "code",
   "execution_count": 7,
   "metadata": {},
   "outputs": [],
   "source": [
    "class Fabrica:\n",
    "    def __init__(self, tiempo, nombre, ruedas):\n",
    "        self.tiempo = tiempo\n",
    "        self.nombre= nombre\n",
    "        self.ruedas = ruedas\n",
    "        print(\"Se creo el auto \", self.nombre)\n",
    "    \n",
    "    def __del__(self):\n",
    "        print(\"Se elimino el auto \", self.nombre)\n",
    "\n",
    "    def __str__(self):\n",
    "        return \"{} se fabrico con exito, en el tiempo {} y tiene la cantidad de ruedas {}\".format(self.nombre, self.tiempo, self.ruedas)\n",
    "\n",
    "    def __len__(self):\n",
    "        return self.tiempo"
   ]
  },
  {
   "cell_type": "code",
   "execution_count": 8,
   "metadata": {},
   "outputs": [
    {
     "output_type": "stream",
     "name": "stdout",
     "text": [
      "Se creo el auto  Ford\n"
     ]
    }
   ],
   "source": [
    "a = Fabrica(10, \"Ford\", 4)"
   ]
  },
  {
   "cell_type": "code",
   "execution_count": 9,
   "metadata": {},
   "outputs": [
    {
     "output_type": "execute_result",
     "data": {
      "text/plain": [
       "10"
      ]
     },
     "metadata": {},
     "execution_count": 9
    }
   ],
   "source": [
    "len(a)"
   ]
  },
  {
   "cell_type": "code",
   "execution_count": null,
   "metadata": {},
   "outputs": [],
   "source": []
  }
 ]
}