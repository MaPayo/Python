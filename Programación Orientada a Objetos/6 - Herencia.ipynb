{
 "metadata": {
  "language_info": {
   "codemirror_mode": {
    "name": "ipython",
    "version": 3
   },
   "file_extension": ".py",
   "mimetype": "text/x-python",
   "name": "python",
   "nbconvert_exporter": "python",
   "pygments_lexer": "ipython3",
   "version": "3.9.0-final"
  },
  "orig_nbformat": 2,
  "kernelspec": {
   "name": "Python 3.9.0 64-bit",
   "display_name": "Python 3.9.0 64-bit",
   "metadata": {
    "interpreter": {
     "hash": "63838ee635211b2aabf448bdfb13ad855c46fe9409d26a139c71ce2179bdef9b"
    }
   }
  }
 },
 "nbformat": 4,
 "nbformat_minor": 2,
 "cells": [
  {
   "cell_type": "code",
   "execution_count": 3,
   "metadata": {},
   "outputs": [],
   "source": [
    "class Fabrica:\n",
    "    def __init__(self, marca, nombre, precio, descripcion, ruedas=None, distribuidor=None):\n",
    "        self.marca = marca\n",
    "        self.nombre = nombre\n",
    "        self.precio = precio\n",
    "        self.descripcion = descripcion\n",
    "        self.ruedas = ruedas\n",
    "        self.distribuidor = distribuidor\n",
    "\n",
    "Auto = Fabrica(\"Ford\", \"Ranger\",\"Camioneta 4x4\", 4)"
   ]
  },
  {
   "cell_type": "code",
   "execution_count": 4,
   "metadata": {},
   "outputs": [
    {
     "output_type": "execute_result",
     "data": {
      "text/plain": [
       "'Ranger'"
      ]
     },
     "metadata": {},
     "execution_count": 4
    }
   ],
   "source": [
    "Auto.nombre"
   ]
  },
  {
   "cell_type": "code",
   "execution_count": 5,
   "metadata": {},
   "outputs": [],
   "source": [
    "class Fabrica:\n",
    "    def __init__(self, marca, nombre, precio, descripcion):\n",
    "        self.marca = marca\n",
    "        self.nombre = nombre\n",
    "        self.precio = precio\n",
    "        self.descripcion = descripcion\n",
    "\n",
    "    def __str__(self):\n",
    "        return \"\"\"\n",
    "        MARCA\\t{}\n",
    "        NOMBRE\\t{}\n",
    "        PRECIO\\t{}\n",
    "        DESCRIPCION\\t{}\"\"\".format(self.marca, self.nombre, self.precio,self.descripcion)\n",
    "      \n"
   ]
  },
  {
   "cell_type": "code",
   "execution_count": 7,
   "metadata": {},
   "outputs": [
    {
     "output_type": "stream",
     "name": "stdout",
     "text": [
      "\n        MARCA\tFord\n        NOMBRE\tRanger\n        PRECIO\t100.0\n        DESCRIPCION\tCamioneta\n"
     ]
    }
   ],
   "source": [
    "class Auto(Fabrica):\n",
    "    pass\n",
    "z = Auto(\"Ford\", \"Ranger\", 100.000, \"Camioneta\")\n",
    "print(z)"
   ]
  },
  {
   "cell_type": "code",
   "execution_count": 8,
   "metadata": {},
   "outputs": [],
   "source": [
    "class Deportivo(Fabrica):\n",
    "    ruedas = \"\"\n",
    "    distribuidor = \"\"\n",
    "\n",
    "    def __str__(self):\n",
    "         return \"\"\"\\\n",
    "    MARCA\\t\\t{}\n",
    "    NOMBRE\\t\\t{}\n",
    "    PRECIO\\t\\t{}\n",
    "    DESCRIPCION\\t{}\n",
    "    RUEDAS\\t\\t{}\n",
    "    DISTRIBUIDOR\\t{}\"\"\".format(self.marca, self.nombre, self.precio,self.descripcion, self.ruedas, self.distribuidor)\n"
   ]
  },
  {
   "cell_type": "code",
   "execution_count": 9,
   "metadata": {},
   "outputs": [],
   "source": [
    "deportivo = Deportivo(\"Ford\", \"Vento\", 54000, \"El mejor\")\n",
    "deportivo.ruedas= 3\n",
    "deportivo.distribuidor = \"Tu auto\""
   ]
  },
  {
   "cell_type": "code",
   "execution_count": 10,
   "metadata": {},
   "outputs": [
    {
     "output_type": "stream",
     "name": "stdout",
     "text": [
      "    MARCA\t\tFord\n    NOMBRE\t\tVento\n    PRECIO\t\t54000\n    DESCRIPCION\tEl mejor\n    RUEDAS\t\t3\n    DISTRIBUIDOR\tTu auto\n"
     ]
    }
   ],
   "source": [
    "print(deportivo)"
   ]
  },
  {
   "cell_type": "code",
   "execution_count": null,
   "metadata": {},
   "outputs": [],
   "source": []
  }
 ]
}