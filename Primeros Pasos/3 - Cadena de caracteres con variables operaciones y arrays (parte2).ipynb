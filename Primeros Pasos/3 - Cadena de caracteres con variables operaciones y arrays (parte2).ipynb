{
 "metadata": {
  "language_info": {
   "codemirror_mode": {
    "name": "ipython",
    "version": 3
   },
   "file_extension": ".py",
   "mimetype": "text/x-python",
   "name": "python",
   "nbconvert_exporter": "python",
   "pygments_lexer": "ipython3",
   "version": "3.9.0-final"
  },
  "orig_nbformat": 2,
  "kernelspec": {
   "name": "Python 3.9.0 64-bit",
   "display_name": "Python 3.9.0 64-bit",
   "metadata": {
    "interpreter": {
     "hash": "63838ee635211b2aabf448bdfb13ad855c46fe9409d26a139c71ce2179bdef9b"
    }
   }
  }
 },
 "nbformat": 4,
 "nbformat_minor": 2,
 "cells": [
  {
   "cell_type": "code",
   "execution_count": 1,
   "metadata": {},
   "outputs": [
    {
     "output_type": "stream",
     "name": "stdout",
     "text": [
      "De esta manera\nnos ahorramos a nuna\npero no a \tuna que es para la tabulacion\n"
     ]
    }
   ],
   "source": [
    "print(\"\"\"De esta manera\n",
    "nos ahorramos a nuna\n",
    "pero no a \\tuna que es para la tabulacion\"\"\")"
   ]
  },
  {
   "cell_type": "code",
   "execution_count": 2,
   "metadata": {},
   "outputs": [],
   "source": [
    "variable =\"teoria sobre este temadonde salto de linea es con \\nson dos lineas\""
   ]
  },
  {
   "cell_type": "code",
   "execution_count": 3,
   "metadata": {},
   "outputs": [
    {
     "output_type": "execute_result",
     "data": {
      "text/plain": [
       "'teoria sobre este temadonde salto de linea es con \\nson dos lineas'"
      ]
     },
     "metadata": {},
     "execution_count": 3
    }
   ],
   "source": [
    "variable"
   ]
  },
  {
   "cell_type": "code",
   "execution_count": 4,
   "metadata": {},
   "outputs": [
    {
     "output_type": "stream",
     "name": "stdout",
     "text": [
      "teoria sobre este temadonde salto de linea es con \nson dos lineas\n"
     ]
    }
   ],
   "source": [
    "print(variable)"
   ]
  },
  {
   "cell_type": "code",
   "execution_count": 5,
   "metadata": {},
   "outputs": [
    {
     "output_type": "execute_result",
     "data": {
      "text/plain": [
       "'teoria sobre este temadonde salto de linea es con \\nson dos lineasteoria sobre este temadonde salto de linea es con \\nson dos lineas'"
      ]
     },
     "metadata": {},
     "execution_count": 5
    }
   ],
   "source": [
    "variable + variable"
   ]
  },
  {
   "cell_type": "code",
   "execution_count": 6,
   "metadata": {},
   "outputs": [
    {
     "output_type": "execute_result",
     "data": {
      "text/plain": [
       "'teoria sobre este temadonde salto de linea es con \\nson dos lineas'"
      ]
     },
     "metadata": {},
     "execution_count": 6
    }
   ],
   "source": [
    "variable"
   ]
  },
  {
   "cell_type": "code",
   "execution_count": 7,
   "metadata": {},
   "outputs": [
    {
     "output_type": "stream",
     "name": "stdout",
     "text": [
      "teoria sobre este temadonde salto de linea es con \nson dos lineasteoria sobre este temadonde salto de linea es con \nson dos lineas\n"
     ]
    }
   ],
   "source": [
    "print(variable +variable)"
   ]
  },
  {
   "cell_type": "code",
   "execution_count": 8,
   "metadata": {},
   "outputs": [],
   "source": [
    "primero = \"primera parte\"\n",
    "segundo = \" segunda parte\""
   ]
  },
  {
   "cell_type": "code",
   "execution_count": 9,
   "metadata": {},
   "outputs": [
    {
     "output_type": "stream",
     "name": "stdout",
     "text": [
      "funsion de primera parte segunda parte\n"
     ]
    }
   ],
   "source": [
    "print(\"funsion de \"+primero + segundo)"
   ]
  },
  {
   "cell_type": "code",
   "execution_count": null,
   "metadata": {},
   "outputs": [],
   "source": []
  }
 ]
}