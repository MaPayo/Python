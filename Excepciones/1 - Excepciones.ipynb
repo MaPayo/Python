{
 "metadata": {
  "language_info": {
   "codemirror_mode": {
    "name": "ipython",
    "version": 3
   },
   "file_extension": ".py",
   "mimetype": "text/x-python",
   "name": "python",
   "nbconvert_exporter": "python",
   "pygments_lexer": "ipython3",
   "version": "3.9.0-final"
  },
  "orig_nbformat": 2,
  "kernelspec": {
   "name": "Python 3.9.0 64-bit",
   "display_name": "Python 3.9.0 64-bit",
   "metadata": {
    "interpreter": {
     "hash": "63838ee635211b2aabf448bdfb13ad855c46fe9409d26a139c71ce2179bdef9b"
    }
   }
  }
 },
 "nbformat": 4,
 "nbformat_minor": 2,
 "cells": [
  {
   "cell_type": "code",
   "execution_count": 1,
   "metadata": {},
   "outputs": [
    {
     "output_type": "error",
     "ename": "ValueError",
     "evalue": "could not convert string to float: 'a'",
     "traceback": [
      "\u001b[1;31m---------------------------------------------------------------------------\u001b[0m",
      "\u001b[1;31mValueError\u001b[0m                                Traceback (most recent call last)",
      "\u001b[1;32m<ipython-input-1-eebdbc6e5fa6>\u001b[0m in \u001b[0;36m<module>\u001b[1;34m\u001b[0m\n\u001b[1;32m----> 1\u001b[1;33m \u001b[0mvariable\u001b[0m \u001b[1;33m=\u001b[0m \u001b[0mfloat\u001b[0m\u001b[1;33m(\u001b[0m\u001b[0minput\u001b[0m\u001b[1;33m(\u001b[0m\u001b[1;34m\"Introduce algo: \"\u001b[0m\u001b[1;33m)\u001b[0m\u001b[1;33m)\u001b[0m\u001b[1;33m\u001b[0m\u001b[1;33m\u001b[0m\u001b[0m\n\u001b[0m\u001b[0;32m      2\u001b[0m \u001b[0ma\u001b[0m \u001b[1;33m=\u001b[0m \u001b[1;36m2\u001b[0m\u001b[1;33m\u001b[0m\u001b[1;33m\u001b[0m\u001b[0m\n\u001b[0;32m      3\u001b[0m \u001b[0mprint\u001b[0m\u001b[1;33m(\u001b[0m\u001b[1;34m\"resultado: \"\u001b[0m\u001b[1;33m,\u001b[0m\u001b[0ma\u001b[0m\u001b[1;33m*\u001b[0m\u001b[0mvariable\u001b[0m\u001b[1;33m)\u001b[0m\u001b[1;33m\u001b[0m\u001b[1;33m\u001b[0m\u001b[0m\n",
      "\u001b[1;31mValueError\u001b[0m: could not convert string to float: 'a'"
     ]
    }
   ],
   "source": [
    "variable = float(input(\"Introduce algo: \"))\n",
    "a = 2\n",
    "print(\"resultado: \",a*variable)"
   ]
  },
  {
   "cell_type": "code",
   "execution_count": 2,
   "metadata": {},
   "outputs": [
    {
     "output_type": "stream",
     "name": "stdout",
     "text": [
      "Ingresaste cualquier otra cosa menos la que se te pidio\n"
     ]
    }
   ],
   "source": [
    "try:\n",
    "    variable = float(input(\"Introduce un numero: \"))\n",
    "    a = 2\n",
    "    print(\"resultado: \", a*variable)\n",
    "except:\n",
    "    print(\"Ingresaste cualquier otra cosa menos la que se te pidio\")"
   ]
  },
  {
   "cell_type": "code",
   "execution_count": 2,
   "metadata": {},
   "outputs": [
    {
     "output_type": "stream",
     "name": "stdout",
     "text": [
      "Ingresaste cualquier otra cosa menos la que se te pidio\n",
      "resultado:  10.0\n",
      "Ingresaste cualquier otra cosa menos la que se te pidio\n",
      "Ingresaste cualquier otra cosa menos la que se te pidio\n",
      "Ingresaste cualquier otra cosa menos la que se te pidio\n"
     ]
    }
   ],
   "source": [
    "while (True):\n",
    "    try:\n",
    "        variable = float(input(\"Introduce un numero: \"))\n",
    "        a = 2\n",
    "        print(\"resultado: \", a*variable)\n",
    "    except:\n",
    "        print(\"Ingresaste cualquier otra cosa menos la que se te pidio\")\n",
    "    else:\n",
    "        print(\"Iniciaste sesión correctamente\")\n",
    "        break"
   ]
  },
  {
   "cell_type": "code",
   "execution_count": null,
   "metadata": {},
   "outputs": [],
   "source": [
    "while (True):\n",
    "    try:\n",
    "        variable = float(input(\"Introduce un numero: \"))\n",
    "        a = 2\n",
    "        print(\"resultado: \", a*variable)\n",
    "    except:\n",
    "        print(\"Ingresaste cualquier otra cosa menos la que se te pidio\")\n",
    "    else:\n",
    "        print(\"Iniciaste sesión correctamente\")\n",
    "        break\n",
    "    finally:\n",
    "        print(\"Perfecto, se termino\")"
   ]
  }
 ]
}